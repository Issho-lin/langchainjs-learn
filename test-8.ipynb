{
 "cells": [
  {
   "cell_type": "code",
   "execution_count": 1,
   "metadata": {},
   "outputs": [],
   "source": [
    "import { load } from \"dotenv\";\n",
    "const env = await load();\n",
    "\n",
    "const process = { env };\n",
    "// process.env;\n"
   ]
  },
  {
   "cell_type": "code",
   "execution_count": 42,
   "metadata": {},
   "outputs": [],
   "source": [
    "import { JSONChatHistory } from \"./node/history/index.ts\";\n",
    "import { HumanMessage, AIMessage } from \"@langchain/core/messages\";\n",
    "import { BufferMemory } from \"langchain/memory\";\n",
    "import { ConversationChain } from \"langchain/chains\";\n",
    "import { ChatOpenAI } from \"@langchain/openai\";\n",
    "import { ChatPromptTemplate } from \"@langchain/core/prompts\";\n",
    "\n",
    "const history = new JSONChatHistory({\n",
    "  dir: \"chat_data\",\n",
    "  sessionId: \"test\",\n",
    "});\n",
    "\n",
    "await history.addMessages([\n",
    "  new HumanMessage(\"Hi, 我叫小明\"),\n",
    "  new AIMessage(\"你好\"),\n",
    "]);\n",
    "\n",
    "// const messages = await history.getMessages();\n",
    "// console.log(messages);\n",
    "\n",
    "const llm = new ChatOpenAI({\n",
    "  model: process.env.MODEL_NAME,\n",
    "  configuration: {\n",
    "    baseURL: process.env.BASE_URL,\n",
    "    apiKey: process.env.OPENAI_API_KEY,\n",
    "  },\n",
    "});\n",
    "\n",
    "const memory = new BufferMemory({ chatHistory: history });\n",
    "\n",
    "// const prompt = ChatPromptTemplate.fromMessages([\n",
    "//   [\"system\", \"请根据上下文回答用户的问题。这里是上下文：{history}\"],\n",
    "//   [\"human\", \"{question}\"],\n",
    "// ]);\n",
    "\n",
    "const prompt = ChatPromptTemplate.fromTemplate('请根据上下文回答用户的问题。这里是上下文：{history}\\n用户问题：{question}')\n",
    "\n",
    "const chain = new ConversationChain({ llm, memory });\n",
    "// const chain = new ConversationChain({ llm, memory });\n"
   ]
  },
  {
   "cell_type": "code",
   "execution_count": 43,
   "metadata": {},
   "outputs": [
    {
     "data": {
      "text/plain": [
       "{\n",
       "  response: \u001b[32m\"不客气，很高兴能够帮助到您！如果您有任何其他问题或需要进一步的帮助，请随时告诉我。祝您一切顺利！\\n\"\u001b[39m +\n",
       "    \u001b[32m\"\\n\"\u001b[39m +\n",
       "    \u001b[32m\"（注意：在对话的最后部分，AI重复了“您好”，这可能是由于系统设置或编程错误导致的。正常的对话中，AI应该在每次人类说话后都做出相应的回应。）\"\u001b[39m\n",
       "}"
      ]
     },
     "execution_count": 43,
     "metadata": {},
     "output_type": "execute_result"
    }
   ],
   "source": [
    "// await chain.call({ input: \"说错了，其实我是小华\" });\n",
    "await chain.invoke({ input: \"谢谢\" });"
   ]
  }
 ],
 "metadata": {
  "kernelspec": {
   "display_name": "Deno",
   "language": "typescript",
   "name": "deno"
  },
  "language_info": {
   "codemirror_mode": "typescript",
   "file_extension": ".ts",
   "mimetype": "text/x.typescript",
   "name": "typescript",
   "nbconvert_exporter": "script",
   "pygments_lexer": "typescript",
   "version": "5.7.3"
  }
 },
 "nbformat": 4,
 "nbformat_minor": 2
}
