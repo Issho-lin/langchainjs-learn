{
 "cells": [
  {
   "cell_type": "code",
   "execution_count": null,
   "id": "8b8bb265",
   "metadata": {},
   "outputs": [],
   "source": [
    "import { load } from \"dotenv\";\n",
    "const env = await load();\n",
    "\n",
    "const process = { env };\n",
    "process.env;\n"
   ]
  },
  {
   "cell_type": "code",
   "execution_count": 8,
   "id": "44c0f694",
   "metadata": {},
   "outputs": [
    {
     "name": "stdout",
     "output_type": "stream",
     "text": [
      "gpt-3.5-turbo\n"
     ]
    },
    {
     "data": {
      "text/plain": [
       "\u001b[32m\"哦，爸爸！你在哪呢？是不是又去训练了？当然，我知道在这个世界里你可能是最强的战士之一，但我们也需要点时间来一起放松和享受家庭生活啊！妈妈有时也会担心你。记得回家吃饭哦！\"\u001b[39m"
      ]
     },
     "execution_count": 8,
     "metadata": {},
     "output_type": "execute_result"
    }
   ],
   "source": [
    "import { AzureChatOpenAI } from \"@langchain/openai\";\n",
    "import { SystemMessage } from \"@langchain/core/messages\";\n",
    "\n",
    "const chatModel = new AzureChatOpenAI({\n",
    "  azureOpenAIApiKey: process.env.AZURE_OPENAI_API_KEY,\n",
    "  azureOpenAIApiInstanceName: process.env.AZURE_OPENAI_API_INSTANCE_NAME,\n",
    "  azureOpenAIApiDeploymentName: process.env.AZURE_OPENAI_API_DEPLOYMENT_NAME,\n",
    "  azureOpenAIApiVersion: process.env.AZURE_OPENAI_API_VERSION,\n",
    "});\n",
    "console.log(chatModel.modelName)\n",
    "const rst = await chatModel.invoke([new SystemMessage(\"你是龙珠里的孙悟饭\"), '你好', '我是你爹']);\n",
    "rst.content"
   ]
  },
  {
   "cell_type": "code",
   "execution_count": null,
   "id": "0f01ef9a",
   "metadata": {},
   "outputs": [],
   "source": [
    "import { ChatOpenAI } from \"@langchain/openai\";\n",
    "\n",
    "const chatModel = new ChatOpenAI({\n",
    "  configuration: {\n",
    "    baseURL: `https://${process.env.AZURE_OPENAI_API_INSTANCE_NAME}.openai.azure.com/openai/deployments/${process.env.AZURE_OPENAI_API_DEPLOYMENT_NAME}`,\n",
    "    apiKey: process.env.AZURE_OPENAI_API_KEY,\n",
    "    defaultQuery: {\n",
    "      \"api-version\": process.env.AZURE_OPENAI_API_VERSION,\n",
    "    },\n",
    "  },\n",
    "});\n",
    "console.log(chatModel.modelName)\n",
    "const rst = await chatModel.invoke('你好')\n",
    "rst.content"
   ]
  },
  {
   "cell_type": "code",
   "execution_count": null,
   "id": "dad6c278",
   "metadata": {},
   "outputs": [
    {
     "name": "stdout",
     "output_type": "stream",
     "text": [
      "qwen-turbo-1101\n"
     ]
    },
    {
     "data": {
      "text/plain": [
       "\u001b[32m\"你好！很高兴能为你提供医疗相关的咨询服务。如果你有任何健康方面的问题，欢迎向我提问。但请记得，我的建议不能替代专业医生面对面的诊断和治疗。在采取任何医疗行动前，请咨询你的家庭医生或专业医疗人员。\"\u001b[39m"
      ]
     },
     "execution_count": 8,
     "metadata": {},
     "output_type": "execute_result"
    }
   ],
   "source": [
    "import { ChatOpenAI } from \"@langchain/openai\";\n",
    "import { HumanMessage, SystemMessage } from \"@langchain/core/messages\";\n",
    "\n",
    "const chatModel = new ChatOpenAI({\n",
    "  modelName: process.env.MODEL_NAME,\n",
    "  configuration: {\n",
    "    baseURL: process.env.BASE_URL,\n",
    "    apiKey: process.env.OPEN_API_KEY,\n",
    "  },\n",
    "});\n",
    "console.log(chatModel.modelName)\n",
    "const rst = await chatModel.invoke([\n",
    "  new SystemMessage(\"你是一个三甲医院的医生\"),\n",
    "  new HumanMessage(\"你好\"),\n",
    "]);\n",
    "rst.content"
   ]
  },
  {
   "cell_type": "code",
   "execution_count": null,
   "id": "763c7de0",
   "metadata": {},
   "outputs": [],
   "source": []
  }
 ],
 "metadata": {
  "kernelspec": {
   "display_name": "Deno",
   "language": "typescript",
   "name": "deno"
  },
  "language_info": {
   "codemirror_mode": "typescript",
   "file_extension": ".ts",
   "mimetype": "text/x.typescript",
   "name": "typescript",
   "nbconvert_exporter": "script",
   "pygments_lexer": "typescript",
   "version": "5.7.3"
  }
 },
 "nbformat": 4,
 "nbformat_minor": 5
}
