{
 "cells": [
  {
   "cell_type": "code",
   "execution_count": null,
   "metadata": {},
   "outputs": [],
   "source": [
    "import { load } from \"dotenv\";\n",
    "const env = await load();\n",
    "\n",
    "const process = { env };\n",
    "process.env;\n"
   ]
  },
  {
   "cell_type": "code",
   "execution_count": 14,
   "metadata": {},
   "outputs": [
    {
     "name": "stdout",
     "output_type": "stream",
     "text": [
      "{ input: \"我有 17 美元，现在相当于多少人民币？\", output: \"17 美元大约相当于 122.91 人民币。\" }\n"
     ]
    }
   ],
   "source": [
    "import { PromptTemplate } from \"@langchain/core/prompts\";\n",
    "import { ChatOpenAI } from \"@langchain/openai\";\n",
    "import { pull } from \"langchain/hub\";\n",
    "import { createReactAgent, AgentExecutor } from \"langchain/agents\";\n",
    "import { SerpAPI } from \"@langchain/community/tools/serpapi\";\n",
    "import { Calculator } from \"@langchain/community/tools/calculator\";\n",
    "import { DynamicTool } from \"langchain/tools\";\n",
    "\n",
    "\n",
    "const prompt = await pull<PromptTemplate>(\"hwchase17/react\");\n",
    "//   console.log(prompt);\n",
    "\n",
    "const llm = new ChatOpenAI({\n",
    "  temperature: 0,\n",
    "  model: process.env.MODEL_NAME,\n",
    "  configuration: {\n",
    "    baseURL: process.env.BASE_URL,\n",
    "    apiKey: process.env.OPENAI_API_KEY,\n",
    "  },\n",
    "});\n",
    "\n",
    "// const dynamicTool = new DynamicTool({\n",
    "//   name: 'Google Search',\n",
    "//   description: 'A tool that returns the length of a given string',\n",
    "//   func: async (input: string) => {\n",
    "//     console.log(input);\n",
    "//     return '5 Chinese Yuan'\n",
    "//   },\n",
    "//   returnDirect: true,\n",
    "// });\n",
    "\n",
    "const tools = [new SerpAPI(process.env.SERP_API_KEY), new Calculator()];\n",
    "\n",
    "const agent = await createReactAgent({\n",
    "  llm,\n",
    "  tools,\n",
    "  prompt,\n",
    "});\n",
    "\n",
    "const agentExecutor = new AgentExecutor({\n",
    "  agent,\n",
    "  tools,\n",
    "});\n",
    "\n",
    "const result = await agentExecutor.invoke({\n",
    "  input: \"我有 17 美元，现在相当于多少人民币？\",\n",
    "});\n",
    "\n",
    "console.log(result);\n",
    "\n"
   ]
  }
 ],
 "metadata": {
  "kernelspec": {
   "display_name": "Deno",
   "language": "typescript",
   "name": "deno"
  },
  "language_info": {
   "codemirror_mode": "typescript",
   "file_extension": ".ts",
   "mimetype": "text/x.typescript",
   "name": "typescript",
   "nbconvert_exporter": "script",
   "pygments_lexer": "typescript",
   "version": "5.7.3"
  }
 },
 "nbformat": 4,
 "nbformat_minor": 2
}
