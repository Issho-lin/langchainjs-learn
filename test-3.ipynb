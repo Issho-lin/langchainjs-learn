{
 "cells": [
  {
   "cell_type": "code",
   "execution_count": 16,
   "id": "f5b04f85",
   "metadata": {},
   "outputs": [
    {
     "name": "stdout",
     "output_type": "stream",
     "text": [
      "你是一个三甲医院的骨科医生，今天是2025/4/25，请回答一下如何预防半月板损伤\n",
      "你是一个三甲医院的骨科医生，今天是2025/4/25，请回答一下如何处理半月板损伤\n"
     ]
    }
   ],
   "source": [
    "import { ChatOpenAI } from \"@langchain/openai\";\n",
    "import { PromptTemplate } from \"@langchain/core/prompts\";\n",
    "\n",
    "const llm = new ChatOpenAI({\n",
    "  modelName: process.env.MODEL_NAME,\n",
    "  configuration: {\n",
    "    baseURL: process.env.BASE_URL,\n",
    "    apiKey: process.env.OPEN_API_KEY,\n",
    "  },\n",
    "});\n",
    "\n",
    "// const prompt = new PromptTemplate({\n",
    "//     inputVariables: ['job', 'question'],\n",
    "//     template: '你是一个{job}，请解释一下{question}'\n",
    "// })\n",
    "const prompt = PromptTemplate.fromTemplate('你是一个{job}，请回答一下{question}')\n",
    "\n",
    "// await prompt.format({ job: '三甲医院的骨科医生', question: '如何预防半月板损伤' })\n",
    "// const partial = await prompt.partial({ job: '三甲医院的骨科医生' })\n",
    "\n",
    "const getJob = (hospital: string) => {\n",
    "    const date = new Date().toLocaleDateString()\n",
    "    return hospital + '的骨科医生，今天是' + date\n",
    "}\n",
    "const partial = await prompt.partial({ job: getJob('三甲医院') })\n",
    "\n",
    "const rst1 = await partial.format({ question: '如何预防半月板损伤' })\n",
    "console.log(rst1)\n",
    "\n",
    "const rst2 = await partial.format({ question: '如何处理半月板损伤' })\n",
    "console.log(rst2)"
   ]
  }
 ],
 "metadata": {
  "kernelspec": {
   "display_name": "Deno",
   "language": "typescript",
   "name": "deno"
  },
  "language_info": {
   "codemirror_mode": "typescript",
   "file_extension": ".ts",
   "mimetype": "text/x.typescript",
   "name": "typescript",
   "nbconvert_exporter": "script",
   "pygments_lexer": "typescript",
   "version": "5.7.3"
  }
 },
 "nbformat": 4,
 "nbformat_minor": 5
}
