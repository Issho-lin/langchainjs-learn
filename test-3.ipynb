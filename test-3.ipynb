{
 "cells": [
  {
   "cell_type": "code",
   "execution_count": 3,
   "id": "f5b04f85",
   "metadata": {},
   "outputs": [
    {
     "name": "stdout",
     "output_type": "stream",
     "text": [
      "你是一个三甲医院的骨科医生，今天是2025/4/25，请回答一下如何预防半月板损伤\n",
      "你是一个三甲医院的骨科医生，今天是2025/4/25，请回答一下如何处理半月板损伤\n"
     ]
    }
   ],
   "source": [
    "// import { ChatOpenAI } from \"@langchain/openai\";\n",
    "import { PromptTemplate } from \"@langchain/core/prompts\";\n",
    "\n",
    "// const llm = new ChatOpenAI({\n",
    "//   modelName: process.env.MODEL_NAME,\n",
    "//   configuration: {\n",
    "//     baseURL: process.env.BASE_URL,\n",
    "//     apiKey: process.env.OPEN_API_KEY,\n",
    "//   },\n",
    "// });\n",
    "\n",
    "// const prompt = new PromptTemplate({\n",
    "//     inputVariables: ['job', 'question'],\n",
    "//     template: '你是一个{job}，请解释一下{question}'\n",
    "// })\n",
    "const prompt = PromptTemplate.fromTemplate('你是一个{job}，请回答一下{question}')\n",
    "\n",
    "// await prompt.format({ job: '三甲医院的骨科医生', question: '如何预防半月板损伤' })\n",
    "// const partial = await prompt.partial({ job: '三甲医院的骨科医生' })\n",
    "\n",
    "const getJob = (hospital: string) => {\n",
    "    const date = new Date().toLocaleDateString()\n",
    "    return hospital + '的骨科医生，今天是' + date\n",
    "}\n",
    "const partial = await prompt.partial({ job: getJob('三甲医院') })\n",
    "\n",
    "const rst1 = await partial.format({ question: '如何预防半月板损伤' })\n",
    "console.log(rst1)\n",
    "\n",
    "const rst2 = await partial.format({ question: '如何处理半月板损伤' })\n",
    "console.log(rst2)"
   ]
  },
  {
   "cell_type": "code",
   "execution_count": null,
   "id": "a9599c63",
   "metadata": {},
   "outputs": [
    {
     "name": "stdout",
     "output_type": "stream",
     "text": [
      "message3--- [\n",
      "  SystemMessage {\n",
      "    \"content\": \"你是一个三甲医院的主任医生\",\n",
      "    \"additional_kwargs\": {},\n",
      "    \"response_metadata\": {}\n",
      "  },\n",
      "  HumanMessage {\n",
      "    \"content\": \"你好\",\n",
      "    \"additional_kwargs\": {},\n",
      "    \"response_metadata\": {}\n",
      "  }\n",
      "]\n"
     ]
    },
    {
     "data": {
      "text/plain": [
       "\u001b[32m\"您好！很高兴能为您提供医疗相关的帮助。请问您有什么健康方面的问题需要咨询？请注意，虽然我尽力提供准确的信息，但我的建议不能替代专业医疗意见。对于具体病情，请您咨询专业的医疗机构和医务人员。\"\u001b[39m"
      ]
     },
     "execution_count": 6,
     "metadata": {},
     "output_type": "execute_result"
    }
   ],
   "source": [
    "import { ChatOpenAI } from \"@langchain/openai\";\n",
    "import { ChatPromptTemplate, HumanMessagePromptTemplate, SystemMessagePromptTemplate } from \"@langchain/core/prompts\";\n",
    "import { StringOutputParser } from \"@langchain/core/output_parsers\";\n",
    "\n",
    "const llm = new ChatOpenAI({\n",
    "  modelName: process.env.MODEL_NAME,\n",
    "  configuration: {\n",
    "    baseURL: process.env.BASE_URL,\n",
    "    apiKey: process.env.OPEN_API_KEY,\n",
    "  },\n",
    "});\n",
    "\n",
    "const humanTemplate = '{humanText}'\n",
    "const systemTemplate = '你是一个{systemText}'\n",
    "// const humanMessage = HumanMessagePromptTemplate.fromTemplate(humanTemplate)\n",
    "// const systemMessage = SystemMessagePromptTemplate.fromTemplate(systemTemplate)\n",
    "// const prompt = ChatPromptTemplate.fromMessages([systemMessage, humanMessage])\n",
    "\n",
    "const prompt = ChatPromptTemplate.fromMessages([['system', systemTemplate], ['human', humanTemplate]])\n",
    "\n",
    "// const message1 = await prompt.format({ humanText: '你好', systemText: '三甲医院的主任医生' })\n",
    "// console.log('message1---', message1)\n",
    "\n",
    "// const message2 = await prompt.invoke({ humanText: '你好', systemText: '三甲医院的主任医生' })\n",
    "// console.log('message2---', message2)\n",
    "\n",
    "const message3 = await prompt.formatMessages({ humanText: '你好', systemText: '三甲医院的主任医生' })\n",
    "console.log('message3---', message3)\n",
    "\n",
    "const outputParse = new StringOutputParser();\n",
    "\n",
    "// await llm.pipe(outputParse).invoke(message3)\n",
    "\n",
    "const chain = prompt.pipe(llm).pipe(outputParse);\n",
    "await chain.invoke({ humanText: '你好', systemText: '三甲医院的主任医生' })"
   ]
  }
 ],
 "metadata": {
  "kernelspec": {
   "display_name": "Deno",
   "language": "typescript",
   "name": "deno"
  },
  "language_info": {
   "codemirror_mode": "typescript",
   "file_extension": ".ts",
   "mimetype": "text/x.typescript",
   "name": "typescript",
   "nbconvert_exporter": "script",
   "pygments_lexer": "typescript",
   "version": "5.7.3"
  }
 },
 "nbformat": 4,
 "nbformat_minor": 5
}
