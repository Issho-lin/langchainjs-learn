{
 "cells": [
  {
   "cell_type": "code",
   "execution_count": null,
   "id": "25d0af9c",
   "metadata": {},
   "outputs": [],
   "source": [
    "import { load } from \"dotenv\";\n",
    "const env = await load();\n",
    "\n",
    "const process = { env };\n",
    "process.env;\n"
   ]
  },
  {
   "cell_type": "code",
   "execution_count": null,
   "id": "14e767a1",
   "metadata": {},
   "outputs": [],
   "source": [
    "import { ChatOllama } from \"@langchain/ollama\";\n",
    "ChatOllama;\n"
   ]
  },
  {
   "cell_type": "code",
   "execution_count": null,
   "id": "4cadd4b4",
   "metadata": {},
   "outputs": [],
   "source": [
    "import { ChatDeepSeek } from \"@langchain/deepseek\";\n",
    "// import { HumanMessage, SystemMessage } from \"@langchain/core/messages\";\n",
    "import { StringOutputParser } from \"@langchain/core/output_parsers\";\n",
    "\n",
    "const llm = new ChatDeepSeek({\n",
    "  model: \"deepseek-chat\",\n",
    "  temperature: 0,\n",
    "});\n",
    "const outputParse = new StringOutputParser();\n",
    "// const chain = llm.pipe(outputParse)\n",
    "\n",
    "// const response = await llm.invoke([\n",
    "//   new SystemMessage(\"你是一个聊天机器人\"),\n",
    "//   new HumanMessage(\"你好\"),\n",
    "// ]);\n",
    "// console.log(response.content);\n",
    "\n",
    "// const rst = await chain.invoke([\n",
    "//   new SystemMessage(\"你是一个教学经验丰富的高三数学老师\"),\n",
    "//   new HumanMessage(\"你好\"),\n",
    "// ])\n",
    "// rst\n",
    "\n",
    "// await chain.batch([\n",
    "//   [ new SystemMessage(\"你是一个聊天机器人\"), new HumanMessage(\"你好\") ],\n",
    "//   [ new SystemMessage(\"你是一个3岁小孩\"), new HumanMessage(\"你好\")]\n",
    "// ])\n",
    "\n",
    "// for await (const chunk of await chain.stream([\n",
    "//   new SystemMessage(\"你是一个聊天机器人\"),\n",
    "//   new HumanMessage(\"你好\"),\n",
    "// ])) {\n",
    "//   if (chunk) {\n",
    "//     console.log(chunk)\n",
    "//   }\n",
    "// }\n",
    "\n",
    "const fakellm = new ChatDeepSeek({\n",
    "  model: \"deepseek-chat\",\n",
    "  temperature: 0,\n",
    "  apiKey: \"1234\",\n",
    "  maxRetries: 0,\n",
    "});\n",
    "// await fakellm.invoke('你好')\n",
    "const llmWithFallback = fakellm.withFallbacks({\n",
    "  fallbacks: [llm],\n",
    "});\n",
    "const chain = llmWithFallback.pipe(outputParse);\n",
    "await chain.invoke(\"Tell me a joke.\");\n"
   ]
  },
  {
   "cell_type": "code",
   "execution_count": null,
   "id": "adff12e4",
   "metadata": {},
   "outputs": [],
   "source": [
    "import { ChatOpenAI } from \"@langchain/openai\";\n",
    "import { StringOutputParser } from \"@langchain/core/output_parsers\";\n",
    "\n",
    "const fakellm = new ChatOpenAI({\n",
    "  modelName: process.env.MODEL_NAME,\n",
    "  maxRetries: 0,\n",
    "  configuration: {\n",
    "    baseURL: process.env.BASE_URL,\n",
    "    apiKey: \"sk-111\",\n",
    "  },\n",
    "});\n",
    "const llm = new ChatOpenAI({\n",
    "  modelName: process.env.MODEL_NAME,\n",
    "  maxRetries: 0,\n",
    "  configuration: {\n",
    "    baseURL: process.env.BASE_URL,\n",
    "    apiKey: process.env.OPEN_API_KEY,\n",
    "  },\n",
    "});\n",
    "// await fakellm.invoke('你好')\n",
    "const llmWithFallback = fakellm.withFallbacks({\n",
    "  fallbacks: [llm],\n",
    "});\n",
    "const outputParse = new StringOutputParser();\n",
    "const chain = llmWithFallback.pipe(outputParse);\n",
    "await chain.invoke(\"你好\");\n"
   ]
  },
  {
   "cell_type": "code",
   "execution_count": null,
   "id": "5842e380",
   "metadata": {},
   "outputs": [
    {
     "data": {
      "text/plain": [
       "\u001b[32m\"你好！很高兴与你交流。请问有什么我可以帮助你的吗？无论是知识问答、文本创作，还是其他方面的需求，都请随时告诉我。\"\u001b[39m"
      ]
     },
     "execution_count": 17,
     "metadata": {},
     "output_type": "execute_result"
    }
   ],
   "source": [
    "import { ChatTencentHunyuan } from \"@langchain/community/chat_models/tencent_hunyuan\";\n",
    "import { StringOutputParser } from \"@langchain/core/output_parsers\";\n",
    "\n",
    "const hunyuanLite = new ChatTencentHunyuan({\n",
    "  model: \"hunyuan-lite\",\n",
    "  tencentSecretId: process.env.TECENT_SECRET_ID,\n",
    "  tencentSecretKey: process.env.TECENT_SECRET_KEY,\n",
    "});\n",
    "\n",
    "const outputParse = new StringOutputParser();\n",
    "const chain = hunyuanLite.pipe(outputParse);\n",
    "await chain.invoke(\"你好\");\n"
   ]
  },
  {
   "cell_type": "code",
   "execution_count": 28,
   "id": "073228cb",
   "metadata": {},
   "outputs": [
    {
     "data": {
      "text/plain": [
       "\u001b[32m\"你好！有什么我能帮助你的吗？\"\u001b[39m"
      ]
     },
     "execution_count": 28,
     "metadata": {},
     "output_type": "execute_result"
    }
   ],
   "source": [
    "import { ChatAlibabaTongyi } from \"@langchain/community/chat_models/alibaba_tongyi\";\n",
    "import { StringOutputParser } from \"@langchain/core/output_parsers\";\n",
    "const qwen = new ChatAlibabaTongyi({\n",
    "  model: process.env.MODEL_NAME,\n",
    "  temperature: 1,\n",
    "  alibabaApiKey: process.env.OPEN_API_KEY,\n",
    "});\n",
    "const outputParse = new StringOutputParser();\n",
    "const chain = qwen.pipe(outputParse);\n",
    "await chain.invoke('你好');\n"
   ]
  }
 ],
 "metadata": {
  "kernelspec": {
   "display_name": "Deno",
   "language": "typescript",
   "name": "deno"
  },
  "language_info": {
   "codemirror_mode": "typescript",
   "file_extension": ".ts",
   "mimetype": "text/x.typescript",
   "name": "typescript",
   "nbconvert_exporter": "script",
   "pygments_lexer": "typescript",
   "version": "5.7.3"
  }
 },
 "nbformat": 4,
 "nbformat_minor": 5
}
